{
 "cells": [
  {
   "cell_type": "markdown",
   "metadata": {
    "slideshow": {
     "slide_type": "slide"
    }
   },
   "source": [
    "# This is my self recommendation tool for remimding of projects\n",
    "    >first i should be abel to load, things i want to "
   ]
  },
  {
   "cell_type": "code",
   "execution_count": 1,
   "metadata": {
    "ExecuteTime": {
     "end_time": "2020-11-18T17:54:26.999463Z",
     "start_time": "2020-11-18T17:54:26.963485Z"
    },
    "slideshow": {
     "slide_type": "slide"
    }
   },
   "outputs": [
    {
     "name": "stdout",
     "output_type": "stream",
     "text": [
      "hellow guys\n"
     ]
    }
   ],
   "source": [
    "print(\"hellow guys\")"
   ]
  },
  {
   "cell_type": "code",
   "execution_count": null,
   "metadata": {
    "ExecuteTime": {
     "start_time": "2020-11-18T17:54:29.911Z"
    },
    "slideshow": {
     "slide_type": "subslide"
    }
   },
   "outputs": [
    {
     "name": "stdout",
     "output_type": "stream",
     "text": [
      "pop\n",
      "enter name of a tablepop\n",
      "(?),(?),(?),(?),(?)\n",
      "enter date_of_start18-11-2020\n",
      "enter task_nameOphal all falcon Quesions\n",
      "enter task_discriptioncomplete all falcon quesions in opthal. \\n for the exam\n",
      "enter target_date20-11-2020\n",
      "enter statusNOT\n",
      "['18-11-2020', 'Ophal all falcon Quesions', 'complete all falcon quesions in opthal. \\\\n for the exam', '20-11-2020', 'NOT']\n"
     ]
    }
   ],
   "source": [
    "import bill as billy\n",
    "billy.add_a_task(\"pop.db\",False)"
   ]
  },
  {
   "cell_type": "code",
   "execution_count": 3,
   "metadata": {
    "slideshow": {
     "slide_type": "fragment"
    }
   },
   "outputs": [
    {
     "name": "stdout",
     "output_type": "stream",
     "text": [
      "('pop',)\n",
      "enter name of a tablepop\n"
     ]
    },
    {
     "data": {
      "text/plain": [
       "[('17-11-2020',\n",
       "  'complete SPM paper one syllabus',\n",
       "  'find all questions and complete PSM paper 1 essays, 4marks, 2marks',\n",
       "  '17-11-2020',\n",
       "  'not yet finished')]"
      ]
     },
     "execution_count": 3,
     "metadata": {},
     "output_type": "execute_result"
    }
   ],
   "source": [
    "billy.see_tasks(\"pop.db\")"
   ]
  }
 ],
 "metadata": {
  "celltoolbar": "Slideshow",
  "kernelspec": {
   "display_name": "Python 3",
   "language": "python",
   "name": "python3"
  },
  "language_info": {
   "codemirror_mode": {
    "name": "ipython",
    "version": 3
   },
   "file_extension": ".py",
   "mimetype": "text/x-python",
   "name": "python",
   "nbconvert_exporter": "python",
   "pygments_lexer": "ipython3",
   "version": "3.9.0"
  }
 },
 "nbformat": 4,
 "nbformat_minor": 2
}
