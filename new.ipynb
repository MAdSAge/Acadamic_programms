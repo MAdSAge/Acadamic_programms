{
 "cells": [
  {
   "cell_type": "markdown",
   "metadata": {
    "slideshow": {
     "slide_type": "slide"
    }
   },
   "source": [
    "# This is my self recommendation tool for remimding of projects\n",
    "    >first i should be abel to load, things i want to "
   ]
  },
  {
   "cell_type": "code",
   "execution_count": 5,
   "metadata": {
    "ExecuteTime": {
     "end_time": "2020-11-18T18:11:31.036022Z",
     "start_time": "2020-11-18T18:11:24.736368Z"
    },
    "slideshow": {
     "slide_type": "subslide"
    }
   },
   "outputs": [],
   "source": [
    "import bill as billy"
   ]
  },
  {
   "cell_type": "code",
   "execution_count": 6,
   "metadata": {
    "slideshow": {
     "slide_type": "fragment"
    }
   },
   "outputs": [
    {
     "output_type": "stream",
     "name": "stdout",
     "text": [
      "pop\n",
      "0\n",
      "pop\n",
      "[('17-11-2020', 'Complete SPM paper Two Syllabus', 'find all questions and complete PSM paper 1 essays, 4marks, 2marks', '17-11-2020', 'NOT'), ('18-11-2020', 'Mastering Statistics', 'Complete all satstistics. Find a good book statistics, practise all basic consepts, find practical problems, do a sampling survey utelizing all your knowledgw on statics, app stats to machine learning, find all applications of stats, ', '01-01-2021', 'NOT'), ('18-11-2020', 'Ophal all falcon Quesions', 'complete all falcon quesions in opthal. \\\\n for the exam', '20-11-2020', 'NOT')]\n"
     ]
    }
   ],
   "source": [
    "billy.plot_progress(\"pop.db\")"
   ]
  },
  {
   "cell_type": "code",
   "execution_count": 20,
   "metadata": {},
   "outputs": [
    {
     "output_type": "stream",
     "name": "stdout",
     "text": [
      "('table', 'pop', 'pop', 2, 'CREATE TABLE \"pop\" (\\n\\t\"date_of_start\"\\tTEXT,\\n\\t\"task_name\"\\tTEXT,\\n\\t\"task_discription\"\\tTEXT,\\n\\t\"target_date\"\\tTEXT\\n, \"status\"\\tINTEGER)')\n"
     ]
    }
   ],
   "source": [
    "import sqlite3 as dblite\n",
    "conn = dblite.connect(\"pop.db\")\n",
    "cur = conn.cursor()    \n",
    "cur.execute(\"SELECT * FROM sqlite_master where type='table' ;\")\n",
    "mood = cur.fetchall()\n",
    "for table in mood:\n",
    "    print(table)\n",
    "# if(table_name == None):\n",
    "    # table_name = input(\"enter name of a table\")"
   ]
  }
 ],
 "metadata": {
  "celltoolbar": "Slideshow",
  "kernelspec": {
   "name": "python3",
   "display_name": "Python 3.9.0 64-bit",
   "metadata": {
    "interpreter": {
     "hash": "4142389a69c926f727abe4979e72c843359f6caf31e62909df051c4d9304ecce"
    }
   }
  },
  "language_info": {
   "codemirror_mode": {
    "name": "ipython",
    "version": 3
   },
   "file_extension": ".py",
   "mimetype": "text/x-python",
   "name": "python",
   "nbconvert_exporter": "python",
   "pygments_lexer": "ipython3",
   "version": "3.9.0-final"
  }
 },
 "nbformat": 4,
 "nbformat_minor": 2
}