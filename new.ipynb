{
 "cells": [
  {
   "cell_type": "markdown",
   "metadata": {
    "slideshow": {
     "slide_type": "slide"
    }
   },
   "source": [
    "# This is my self recommendation tool for remimding of projects\n",
    "    >first i should be abel to load, things i want to "
   ]
  },
  {
   "cell_type": "code",
   "execution_count": 1,
   "metadata": {
    "ExecuteTime": {
     "end_time": "2020-11-18T18:11:31.036022Z",
     "start_time": "2020-11-18T18:11:24.736368Z"
    },
    "slideshow": {
     "slide_type": "subslide"
    }
   },
   "outputs": [],
   "source": [
    "import bill as billy"
   ]
  },
  {
   "cell_type": "code",
   "execution_count": 4,
   "metadata": {
    "slideshow": {
     "slide_type": "fragment"
    }
   },
   "outputs": [
    {
     "output_type": "stream",
     "name": "stdout",
     "text": [
      "pop\n",
      "pTracker\n",
      "Tasks in pop are :\n",
      "\n",
      "Start date: \t17-11-2020\tTarget Date:\t17-11-2020\n",
      "task: \t\tComplete SPM paper Two Syllabus\n",
      "Description: \tfind all questions and complete PSM paper 1 essays, 4marks, 2marks\n",
      "Status:\t\tNOT\n",
      "\n",
      "Start date: \t18-11-2020\tTarget Date:\t01-01-2021\n",
      "task: \t\tMastering Statistics\n",
      "Description: \tComplete all satstistics. Find a good book statistics, practise all basic consepts, find practical problems, do a sampling survey utelizing all your knowledgw on statics, app stats to machine learning, find all applications of stats, \n",
      "Status:\t\tNOT\n",
      "\n",
      "Start date: \t18-11-2020\tTarget Date:\t20-11-2020\n",
      "task: \t\tOphal all falcon Quesions\n",
      "Description: \tcomplete all falcon quesions in opthal. \\n for the exam\n",
      "Status:\t\tNOT\n",
      "\n",
      "Start date: \t20-11-2020\tTarget Date:\t13-12-2020\n",
      "task: \t\tandroid app for practising treatmnet of diseases \n",
      "Description: \tapp should be expandable to other diseases and separte practise activities for each subject , for nascent version make a app for which one can practise treamnts of diseases\n",
      "Status:\t\tNOT\n",
      "\n"
     ]
    }
   ],
   "source": [
    "# billy.add_a_task(\"pop.db\")\n",
    "billy.see_tasks(\"pop.db\")"
   ]
  },
  {
   "cell_type": "code",
   "execution_count": 36,
   "metadata": {},
   "outputs": [
    {
     "output_type": "stream",
     "name": "stdout",
     "text": [
      "('table', 'pop', 'pop', 2, 'CREATE TABLE \"pop\" (\\n\\t\"date_of_start\"\\tTEXT,\\n\\t\"task_name\"\\tTEXT,\\n\\t\"task_discription\"\\tTEXT,\\n\\t\"target_date\"\\tTEXT\\n, \"status\"\\tINTEGER)')\n"
     ]
    }
   ],
   "source": []
  }
 ],
 "metadata": {
  "celltoolbar": "Slideshow",
  "kernelspec": {
   "name": "python3",
   "display_name": "Python 3.9.0 64-bit",
   "metadata": {
    "interpreter": {
     "hash": "4142389a69c926f727abe4979e72c843359f6caf31e62909df051c4d9304ecce"
    }
   }
  },
  "language_info": {
   "codemirror_mode": {
    "name": "ipython",
    "version": 3
   },
   "file_extension": ".py",
   "mimetype": "text/x-python",
   "name": "python",
   "nbconvert_exporter": "python",
   "pygments_lexer": "ipython3",
   "version": "3.9.0-final"
  }
 },
 "nbformat": 4,
 "nbformat_minor": 2
}